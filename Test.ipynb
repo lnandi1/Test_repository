{
 "cells": [
  {
   "cell_type": "code",
   "execution_count": null,
   "metadata": {},
   "outputs": [],
   "source": [
    "usr = {\n",
    "    \"Anton\":\"Delehag\",\n",
    "    \"Lilian\":\"Nandi\",\n",
    "    \"Thomas\":\"Sergent\",\n",
    "    }\n",
    "\n",
    "print(usr)\n",
    "active = True\n",
    "while active == True:\n",
    "    frstnm = input(\"Enter first name. \")\n",
    "    sndnm = input(\"Enter last name. \")\n",
    "    \n",
    "    print(\"\\nGoing into the FOR loop\")\n",
    "    for key, value in usr.items():\n",
    "        print(\"key and Firstname \", key,\" \",frstnm, \" value and Surname \",value,\" \",sndnm)\n",
    "        if frstnm == key and sndnm == value:\n",
    "            active = False\n",
    "    if active == True:\n",
    "        print(\"\\nTry again with valid User Details!\")\n",
    "print(\"\\nWell Done. User Details Authenticated!\")"
   ]
  },
  {
   "cell_type": "code",
   "execution_count": null,
   "metadata": {},
   "outputs": [],
   "source": []
  }
 ],
 "metadata": {
  "kernelspec": {
   "display_name": "Python 3",
   "language": "python",
   "name": "python3"
  },
  "language_info": {
   "codemirror_mode": {
    "name": "ipython",
    "version": 3
   },
   "file_extension": ".py",
   "mimetype": "text/x-python",
   "name": "python",
   "nbconvert_exporter": "python",
   "pygments_lexer": "ipython3",
   "version": "3.7.1"
  }
 },
 "nbformat": 4,
 "nbformat_minor": 4
}
